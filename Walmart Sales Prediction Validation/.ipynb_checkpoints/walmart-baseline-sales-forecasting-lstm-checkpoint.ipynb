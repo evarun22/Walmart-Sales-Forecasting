{
 "cells": [
  {
   "cell_type": "markdown",
   "metadata": {
    "_uuid": "3215de40c2aa47024c52ebea2684eed314e222a0"
   },
   "source": [
    "# 1. Loading Libraries"
   ]
  },
  {
   "cell_type": "code",
   "execution_count": 1,
   "metadata": {
    "_kg_hide-input": true,
    "_uuid": "5b65199fe277f661d01c38b61e9604c5407eb051"
   },
   "outputs": [],
   "source": [
    "import pandas as pd\n",
    "import numpy as np\n",
    "from pandas import datetime\n",
    "from sklearn import preprocessing\n",
    "\n",
    "import h5py\n",
    "\n",
    "import matplotlib.pyplot as plt\n",
    "from matplotlib.font_manager import FontProperties\n",
    "%matplotlib inline"
   ]
  },
  {
   "cell_type": "markdown",
   "metadata": {
    "_uuid": "eda2d845c0e2b66d449ae0af353eed12864fff82"
   },
   "source": [
    "# 2. Loading Data"
   ]
  },
  {
   "cell_type": "code",
   "execution_count": 2,
   "metadata": {
    "_uuid": "1f4bf0d5d16d42d41a1d604aa21ad723cbef0ca0"
   },
   "outputs": [],
   "source": [
    "# %% Setup path to data files\n",
    "\n",
    "\n",
    "filename_train = \"train.csv\"\n",
    "filename_test = \"test.csv\"\n",
    "filename_feature = \"features.csv\"\n",
    "filename_store = \"stores.csv\""
   ]
  },
  {
   "cell_type": "code",
   "execution_count": 4,
   "metadata": {
    "_uuid": "b05e803f98d81715ff7f7deb87473e5aaba75cba"
   },
   "outputs": [],
   "source": [
    "# %% Load data\n",
    "\n",
    "df_store = pd.read_csv('stores.csv')\n",
    "df_feature = pd.read_csv('features.csv')\n",
    "df_train = pd.read_csv('train.csv')\n",
    "df_test = pd.read_csv('test.csv')"
   ]
  },
  {
   "cell_type": "markdown",
   "metadata": {
    "_uuid": "d6e2c348535585b6682bacdbc24e5e11650ad0ff"
   },
   "source": [
    "# 3. Explore Data"
   ]
  },
  {
   "cell_type": "markdown",
   "metadata": {
    "_uuid": "583a55984ed649a1229d6fe7494e2026799144de"
   },
   "source": [
    "### 3.1 Store Date"
   ]
  },
  {
   "cell_type": "code",
   "execution_count": 5,
   "metadata": {
    "_uuid": "7f001114b5b4bf92e28ae40f452d5fc4db380889"
   },
   "outputs": [
    {
     "name": "stdout",
     "output_type": "stream",
     "text": [
      "    Store Type    Size\n",
      "0       1    A  151315\n",
      "1       2    A  202307\n",
      "2       3    B   37392\n",
      "3       4    A  205863\n",
      "4       5    B   34875\n",
      "40     41    A  196321\n",
      "41     42    C   39690\n",
      "42     43    C   41062\n",
      "43     44    C   39910\n",
      "44     45    B  118221 \n",
      "\n",
      "Structure of Store:\n",
      " (45, 3) \n",
      "\n",
      "Number of missing values:\n",
      " Size     0\n",
      "Type     0\n",
      "Store    0\n",
      "dtype: int64 \n",
      "\n"
     ]
    }
   ],
   "source": [
    "print(df_store.head().append(df_store.tail()),\"\\n\")\n",
    "print(\"Structure of Store:\\n\",df_store.shape, \"\\n\")\n",
    "print(\"Number of missing values:\\n\",df_store.isnull().sum().sort_values(ascending=False),\"\\n\")"
   ]
  },
  {
   "cell_type": "markdown",
   "metadata": {
    "_uuid": "ee6cf004a2f5a786dbb6c3386a0fd617bca39b8a"
   },
   "source": [
    "### 3.2 Feature Date"
   ]
  },
  {
   "cell_type": "code",
   "execution_count": 6,
   "metadata": {
    "_uuid": "76cdc6948d62ce97820967269d808d50c6567b3b"
   },
   "outputs": [
    {
     "name": "stdout",
     "output_type": "stream",
     "text": [
      "      Store        Date  Temperature  Fuel_Price  MarkDown1  MarkDown2  \\\n",
      "0         1  05-02-2010        42.31       2.572        NaN        NaN   \n",
      "1         1  12-02-2010        38.51       2.548        NaN        NaN   \n",
      "2         1  19-02-2010        39.93       2.514        NaN        NaN   \n",
      "3         1  26-02-2010        46.63       2.561        NaN        NaN   \n",
      "4         1  05-03-2010        46.50       2.625        NaN        NaN   \n",
      "8185     45  28-06-2013        76.05       3.639    4842.29     975.03   \n",
      "8186     45  05-07-2013        77.50       3.614    9090.48    2268.58   \n",
      "8187     45  12-07-2013        79.37       3.614    3789.94    1827.31   \n",
      "8188     45  19-07-2013        82.84       3.737    2961.49    1047.07   \n",
      "8189     45  26-07-2013        76.06       3.804     212.02     851.73   \n",
      "\n",
      "      MarkDown3  MarkDown4  MarkDown5         CPI  Unemployment  IsHoliday  \n",
      "0           NaN        NaN        NaN  211.096358         8.106      False  \n",
      "1           NaN        NaN        NaN  211.242170         8.106       True  \n",
      "2           NaN        NaN        NaN  211.289143         8.106      False  \n",
      "3           NaN        NaN        NaN  211.319643         8.106      False  \n",
      "4           NaN        NaN        NaN  211.350143         8.106      False  \n",
      "8185       3.00    2449.97    3169.69         NaN           NaN      False  \n",
      "8186     582.74    5797.47    1514.93         NaN           NaN      False  \n",
      "8187      85.72     744.84    2150.36         NaN           NaN      False  \n",
      "8188     204.19     363.00    1059.46         NaN           NaN      False  \n",
      "8189       2.06      10.88    1864.57         NaN           NaN      False   \n",
      "\n",
      "Structure of Feature:  (8190, 12) \n",
      "\n",
      "Summary Statistic:\n",
      "              Store  Temperature   Fuel_Price      MarkDown1      MarkDown2  \\\n",
      "count  8190.000000  8190.000000  8190.000000    4032.000000    2921.000000   \n",
      "mean     23.000000    59.356198     3.405992    7032.371786    3384.176594   \n",
      "std      12.987966    18.678607     0.431337    9262.747448    8793.583016   \n",
      "min       1.000000    -7.290000     2.472000   -2781.450000    -265.760000   \n",
      "25%      12.000000    45.902500     3.041000    1577.532500      68.880000   \n",
      "50%      23.000000    60.710000     3.513000    4743.580000     364.570000   \n",
      "75%      34.000000    73.880000     3.743000    8923.310000    2153.350000   \n",
      "max      45.000000   101.950000     4.468000  103184.980000  104519.540000   \n",
      "\n",
      "           MarkDown3     MarkDown4      MarkDown5          CPI  Unemployment  \n",
      "count    3613.000000   3464.000000    4050.000000  7605.000000   7605.000000  \n",
      "mean     1760.100180   3292.935886    4132.216422   172.460809      7.826821  \n",
      "std     11276.462208   6792.329861   13086.690278    39.738346      1.877259  \n",
      "min      -179.260000      0.220000    -185.170000   126.064000      3.684000  \n",
      "25%         6.600000    304.687500    1440.827500   132.364839      6.634000  \n",
      "50%        36.260000   1176.425000    2727.135000   182.764003      7.806000  \n",
      "75%       163.150000   3310.007500    4832.555000   213.932412      8.567000  \n",
      "max    149483.310000  67474.850000  771448.100000   228.976456     14.313000   \n",
      "\n",
      "Count of missing values:\n",
      " MarkDown2       5269\n",
      "MarkDown4       4726\n",
      "MarkDown3       4577\n",
      "MarkDown1       4158\n",
      "MarkDown5       4140\n",
      "Unemployment     585\n",
      "CPI              585\n",
      "IsHoliday          0\n",
      "Fuel_Price         0\n",
      "Temperature        0\n",
      "Date               0\n",
      "Store              0\n",
      "dtype: int64 \n",
      "\n"
     ]
    }
   ],
   "source": [
    "print(df_feature.head().append(df_feature.tail()),\"\\n\")\n",
    "print(\"Structure of Feature: \",df_feature.shape,\"\\n\")\n",
    "print(\"Summary Statistic:\\n\",df_feature.describe(),\"\\n\")\n",
    "print(\"Count of missing values:\\n\",df_feature.isnull().sum().sort_values(ascending=False),\"\\n\")"
   ]
  },
  {
   "cell_type": "code",
   "execution_count": 7,
   "metadata": {
    "_uuid": "bbc4901479c8e62f6bb2db13e279952a982393b2"
   },
   "outputs": [
    {
     "data": {
      "text/html": [
       "<div>\n",
       "<style scoped>\n",
       "    .dataframe tbody tr th:only-of-type {\n",
       "        vertical-align: middle;\n",
       "    }\n",
       "\n",
       "    .dataframe tbody tr th {\n",
       "        vertical-align: top;\n",
       "    }\n",
       "\n",
       "    .dataframe thead th {\n",
       "        text-align: right;\n",
       "    }\n",
       "</style>\n",
       "<table border=\"1\" class=\"dataframe\">\n",
       "  <thead>\n",
       "    <tr style=\"text-align: right;\">\n",
       "      <th></th>\n",
       "      <th>Percent_missing</th>\n",
       "      <th>Datatypes</th>\n",
       "    </tr>\n",
       "  </thead>\n",
       "  <tbody>\n",
       "    <tr>\n",
       "      <th>Store</th>\n",
       "      <td>0.00</td>\n",
       "      <td>int64</td>\n",
       "    </tr>\n",
       "    <tr>\n",
       "      <th>Date</th>\n",
       "      <td>0.00</td>\n",
       "      <td>object</td>\n",
       "    </tr>\n",
       "    <tr>\n",
       "      <th>Temperature</th>\n",
       "      <td>0.00</td>\n",
       "      <td>float64</td>\n",
       "    </tr>\n",
       "    <tr>\n",
       "      <th>Fuel_Price</th>\n",
       "      <td>0.00</td>\n",
       "      <td>float64</td>\n",
       "    </tr>\n",
       "    <tr>\n",
       "      <th>MarkDown1</th>\n",
       "      <td>50.77</td>\n",
       "      <td>float64</td>\n",
       "    </tr>\n",
       "    <tr>\n",
       "      <th>MarkDown2</th>\n",
       "      <td>64.33</td>\n",
       "      <td>float64</td>\n",
       "    </tr>\n",
       "    <tr>\n",
       "      <th>MarkDown3</th>\n",
       "      <td>55.89</td>\n",
       "      <td>float64</td>\n",
       "    </tr>\n",
       "    <tr>\n",
       "      <th>MarkDown4</th>\n",
       "      <td>57.70</td>\n",
       "      <td>float64</td>\n",
       "    </tr>\n",
       "    <tr>\n",
       "      <th>MarkDown5</th>\n",
       "      <td>50.55</td>\n",
       "      <td>float64</td>\n",
       "    </tr>\n",
       "    <tr>\n",
       "      <th>CPI</th>\n",
       "      <td>7.14</td>\n",
       "      <td>float64</td>\n",
       "    </tr>\n",
       "    <tr>\n",
       "      <th>Unemployment</th>\n",
       "      <td>7.14</td>\n",
       "      <td>float64</td>\n",
       "    </tr>\n",
       "    <tr>\n",
       "      <th>IsHoliday</th>\n",
       "      <td>0.00</td>\n",
       "      <td>bool</td>\n",
       "    </tr>\n",
       "  </tbody>\n",
       "</table>\n",
       "</div>"
      ],
      "text/plain": [
       "              Percent_missing Datatypes\n",
       "Store                    0.00     int64\n",
       "Date                     0.00    object\n",
       "Temperature              0.00   float64\n",
       "Fuel_Price               0.00   float64\n",
       "MarkDown1               50.77   float64\n",
       "MarkDown2               64.33   float64\n",
       "MarkDown3               55.89   float64\n",
       "MarkDown4               57.70   float64\n",
       "MarkDown5               50.55   float64\n",
       "CPI                      7.14   float64\n",
       "Unemployment             7.14   float64\n",
       "IsHoliday                0.00      bool"
      ]
     },
     "execution_count": 7,
     "metadata": {},
     "output_type": "execute_result"
    }
   ],
   "source": [
    "# %% Summary Table\n",
    "\n",
    "feature_percent_missing = df_feature.isnull().sum()*100/len(df_feature)\n",
    "feature_data_type = df_feature.dtypes\n",
    "\n",
    "feature_summary = pd.DataFrame({\"Percent_missing\": feature_percent_missing.round(2), \n",
    "                               \"Datatypes\": feature_data_type})\n",
    "\n",
    "feature_summary"
   ]
  },
  {
   "cell_type": "markdown",
   "metadata": {
    "_uuid": "f9b839fdff8998665edee0f5269bc92b89cb5395"
   },
   "source": [
    "### 3.3 Train Date"
   ]
  },
  {
   "cell_type": "code",
   "execution_count": 8,
   "metadata": {
    "_uuid": "b307d21c622c4a43aeb873481f3aff033c73a34e"
   },
   "outputs": [
    {
     "name": "stdout",
     "output_type": "stream",
     "text": [
      "        Store  Dept        Date  Weekly_Sales  IsHoliday\n",
      "0           1     1  05-02-2010      24924.50      False\n",
      "1           1     1  12-02-2010      46039.49       True\n",
      "2           1     1  19-02-2010      41595.55      False\n",
      "3           1     1  26-02-2010      19403.54      False\n",
      "4           1     1  05-03-2010      21827.90      False\n",
      "421565     45    98  28-09-2012        508.37      False\n",
      "421566     45    98  05-10-2012        628.10      False\n",
      "421567     45    98  12-10-2012       1061.02      False\n",
      "421568     45    98  19-10-2012        760.01      False\n",
      "421569     45    98  26-10-2012       1076.80      False \n",
      "\n",
      "Structure of train:\n",
      " (421570, 5) \n",
      "\n",
      "Summary Statistic:\n",
      "                Store           Dept   Weekly_Sales\n",
      "count  421570.000000  421570.000000  421570.000000\n",
      "mean       22.200546      44.260317   15981.258123\n",
      "std        12.785297      30.492054   22711.183519\n",
      "min         1.000000       1.000000   -4988.940000\n",
      "25%        11.000000      18.000000    2079.650000\n",
      "50%        22.000000      37.000000    7612.030000\n",
      "75%        33.000000      74.000000   20205.852500\n",
      "max        45.000000      99.000000  693099.360000 \n",
      "\n"
     ]
    }
   ],
   "source": [
    "print(df_train.head().append(df_train.tail()),\"\\n\")\n",
    "print(\"Structure of train:\\n\",df_train.shape,\"\\n\")\n",
    "print(\"Summary Statistic:\\n\",df_train.describe(),\"\\n\")"
   ]
  },
  {
   "cell_type": "code",
   "execution_count": 9,
   "metadata": {
    "_uuid": "b12669bca3736b3de6fcd9c0ebac283223329f03"
   },
   "outputs": [
    {
     "data": {
      "text/html": [
       "<div>\n",
       "<style scoped>\n",
       "    .dataframe tbody tr th:only-of-type {\n",
       "        vertical-align: middle;\n",
       "    }\n",
       "\n",
       "    .dataframe tbody tr th {\n",
       "        vertical-align: top;\n",
       "    }\n",
       "\n",
       "    .dataframe thead th {\n",
       "        text-align: right;\n",
       "    }\n",
       "</style>\n",
       "<table border=\"1\" class=\"dataframe\">\n",
       "  <thead>\n",
       "    <tr style=\"text-align: right;\">\n",
       "      <th></th>\n",
       "      <th>Percent_Missing</th>\n",
       "      <th>Datatypes</th>\n",
       "    </tr>\n",
       "  </thead>\n",
       "  <tbody>\n",
       "    <tr>\n",
       "      <th>Store</th>\n",
       "      <td>0.0</td>\n",
       "      <td>int64</td>\n",
       "    </tr>\n",
       "    <tr>\n",
       "      <th>Dept</th>\n",
       "      <td>0.0</td>\n",
       "      <td>int64</td>\n",
       "    </tr>\n",
       "    <tr>\n",
       "      <th>Date</th>\n",
       "      <td>0.0</td>\n",
       "      <td>object</td>\n",
       "    </tr>\n",
       "    <tr>\n",
       "      <th>Weekly_Sales</th>\n",
       "      <td>0.0</td>\n",
       "      <td>float64</td>\n",
       "    </tr>\n",
       "    <tr>\n",
       "      <th>IsHoliday</th>\n",
       "      <td>0.0</td>\n",
       "      <td>bool</td>\n",
       "    </tr>\n",
       "  </tbody>\n",
       "</table>\n",
       "</div>"
      ],
      "text/plain": [
       "              Percent_Missing Datatypes\n",
       "Store                     0.0     int64\n",
       "Dept                      0.0     int64\n",
       "Date                      0.0    object\n",
       "Weekly_Sales              0.0   float64\n",
       "IsHoliday                 0.0      bool"
      ]
     },
     "execution_count": 9,
     "metadata": {},
     "output_type": "execute_result"
    }
   ],
   "source": [
    "# %% Summary Table\n",
    "\n",
    "train_percent_missing = df_train.isnull().sum()*100/len(df_train)\n",
    "train_datatype = df_train.dtypes\n",
    "\n",
    "train_summary = pd.DataFrame({\"Percent_Missing\":train_percent_missing.round(2),\n",
    "                             \"Datatypes\":train_datatype})\n",
    "\n",
    "train_summary"
   ]
  },
  {
   "cell_type": "markdown",
   "metadata": {
    "_uuid": "1047a32fb89746e4837c9052c30be29d7751ddb0"
   },
   "source": [
    "### 3.4 Test Date"
   ]
  },
  {
   "cell_type": "code",
   "execution_count": 10,
   "metadata": {
    "_uuid": "f112f002226b29ad83eac5017a7b111cf164b4d8"
   },
   "outputs": [
    {
     "name": "stdout",
     "output_type": "stream",
     "text": [
      "        Store  Dept        Date  IsHoliday\n",
      "0           1     1  02-11-2012      False\n",
      "1           1     1  09-11-2012      False\n",
      "2           1     1  16-11-2012      False\n",
      "3           1     1  23-11-2012       True\n",
      "4           1     1  30-11-2012      False\n",
      "115059     45    98  28-06-2013      False\n",
      "115060     45    98  05-07-2013      False\n",
      "115061     45    98  12-07-2013      False\n",
      "115062     45    98  19-07-2013      False\n",
      "115063     45    98  26-07-2013      False \n",
      "\n",
      "Structure of test:\n",
      " (115064, 4) \n",
      "\n",
      "Summary Statistic:\n",
      "                Store           Dept\n",
      "count  115064.000000  115064.000000\n",
      "mean       22.238207      44.339524\n",
      "std        12.809930      30.656410\n",
      "min         1.000000       1.000000\n",
      "25%        11.000000      18.000000\n",
      "50%        22.000000      37.000000\n",
      "75%        33.000000      74.000000\n",
      "max        45.000000      99.000000 \n",
      "\n"
     ]
    }
   ],
   "source": [
    "print(df_test.head().append(df_test.tail()),\"\\n\")\n",
    "print(\"Structure of test:\\n\",df_test.shape,\"\\n\")\n",
    "print(\"Summary Statistic:\\n\",df_test.describe(),\"\\n\")"
   ]
  },
  {
   "cell_type": "code",
   "execution_count": 11,
   "metadata": {
    "_uuid": "4fccba63209a25ff2e0a75980c3a4403504760f5"
   },
   "outputs": [
    {
     "data": {
      "text/html": [
       "<div>\n",
       "<style scoped>\n",
       "    .dataframe tbody tr th:only-of-type {\n",
       "        vertical-align: middle;\n",
       "    }\n",
       "\n",
       "    .dataframe tbody tr th {\n",
       "        vertical-align: top;\n",
       "    }\n",
       "\n",
       "    .dataframe thead th {\n",
       "        text-align: right;\n",
       "    }\n",
       "</style>\n",
       "<table border=\"1\" class=\"dataframe\">\n",
       "  <thead>\n",
       "    <tr style=\"text-align: right;\">\n",
       "      <th></th>\n",
       "      <th>Datatypes</th>\n",
       "      <th>Percent_Missing</th>\n",
       "    </tr>\n",
       "  </thead>\n",
       "  <tbody>\n",
       "    <tr>\n",
       "      <th>Store</th>\n",
       "      <td>int64</td>\n",
       "      <td>0.0</td>\n",
       "    </tr>\n",
       "    <tr>\n",
       "      <th>Dept</th>\n",
       "      <td>int64</td>\n",
       "      <td>0.0</td>\n",
       "    </tr>\n",
       "    <tr>\n",
       "      <th>Date</th>\n",
       "      <td>object</td>\n",
       "      <td>0.0</td>\n",
       "    </tr>\n",
       "    <tr>\n",
       "      <th>IsHoliday</th>\n",
       "      <td>bool</td>\n",
       "      <td>0.0</td>\n",
       "    </tr>\n",
       "  </tbody>\n",
       "</table>\n",
       "</div>"
      ],
      "text/plain": [
       "          Datatypes  Percent_Missing\n",
       "Store         int64              0.0\n",
       "Dept          int64              0.0\n",
       "Date         object              0.0\n",
       "IsHoliday      bool              0.0"
      ]
     },
     "execution_count": 11,
     "metadata": {},
     "output_type": "execute_result"
    }
   ],
   "source": [
    "# summary\n",
    "\n",
    "test_percent_missing = df_test.isnull().sum()*100/len(df_test)\n",
    "test_datatypes = df_test.dtypes\n",
    "\n",
    "test_summary = pd.DataFrame({\"Datatypes\": test_datatypes,\n",
    "                             \"Percent_Missing\":test_percent_missing.round(2)})\n",
    "\n",
    "test_summary"
   ]
  },
  {
   "cell_type": "code",
   "execution_count": 13,
   "metadata": {
    "_uuid": "083476238fa9b8d0177a83d38cfa119748dca53b"
   },
   "outputs": [],
   "source": [
    "# Make datetypes constant for all datasets\n",
    "\n",
    "df_feature['Date'] = pd.to_datetime(df_feature['Date'], format=\"%d-%m-%Y\")\n",
    "df_train['Date'] = pd.to_datetime(df_train['Date'], format=\"%d-%m-%Y\")\n",
    "df_test['Date'] = pd.to_datetime(df_test['Date'], format=\"%d-%m-%Y\")"
   ]
  },
  {
   "cell_type": "markdown",
   "metadata": {
    "_uuid": "f623a7c9dabe94bc6001dad0965253c42acc0139"
   },
   "source": [
    "# 4. Joining Tables"
   ]
  },
  {
   "cell_type": "code",
   "execution_count": 14,
   "metadata": {
    "_uuid": "c74ff3a4acfae940d255d6ed4e74df430f9c907a"
   },
   "outputs": [
    {
     "name": "stdout",
     "output_type": "stream",
     "text": [
      "   Store  Dept       Date  Weekly_Sales  IsHoliday Type    Size\n",
      "0      1     1 2010-02-05      24924.50      False    A  151315\n",
      "1      1     1 2010-02-12      46039.49       True    A  151315\n",
      "2      1     1 2010-02-19      41595.55      False    A  151315\n",
      "3      1     1 2010-02-26      19403.54      False    A  151315\n",
      "4      1     1 2010-03-05      21827.90      False    A  151315 \n",
      " (421570, 7) \n",
      "\n",
      "   Store  Dept       Date  IsHoliday Type    Size\n",
      "0      1     1 2012-11-02      False    A  151315\n",
      "1      1     1 2012-11-09      False    A  151315\n",
      "2      1     1 2012-11-16      False    A  151315\n",
      "3      1     1 2012-11-23       True    A  151315\n",
      "4      1     1 2012-11-30      False    A  151315 \n",
      " (115064, 6) \n",
      "\n"
     ]
    }
   ],
   "source": [
    "combined_train = pd.merge(df_train, df_store, how=\"left\", on=\"Store\")\n",
    "combined_test = pd.merge(df_test, df_store, how=\"left\", on=\"Store\")\n",
    "\n",
    "print(combined_train.head(),\"\\n\", combined_train.shape,\"\\n\")\n",
    "print(combined_test.head(),\"\\n\", combined_test.shape,\"\\n\")"
   ]
  },
  {
   "cell_type": "code",
   "execution_count": 15,
   "metadata": {
    "_uuid": "2cff69ed4252165faf3f4abb679b2d98d5202b0f"
   },
   "outputs": [
    {
     "name": "stdout",
     "output_type": "stream",
     "text": [
      "   Store  Dept       Date  Weekly_Sales  IsHoliday_x Type    Size  \\\n",
      "0      1     1 2010-02-05      24924.50        False    A  151315   \n",
      "1      1     2 2010-02-05      50605.27        False    A  151315   \n",
      "2      1     3 2010-02-05      13740.12        False    A  151315   \n",
      "3      1     4 2010-02-05      39954.04        False    A  151315   \n",
      "4      1     5 2010-02-05      32229.38        False    A  151315   \n",
      "\n",
      "   Temperature  Fuel_Price  MarkDown1  MarkDown2  MarkDown3  MarkDown4  \\\n",
      "0        42.31       2.572        NaN        NaN        NaN        NaN   \n",
      "1        42.31       2.572        NaN        NaN        NaN        NaN   \n",
      "2        42.31       2.572        NaN        NaN        NaN        NaN   \n",
      "3        42.31       2.572        NaN        NaN        NaN        NaN   \n",
      "4        42.31       2.572        NaN        NaN        NaN        NaN   \n",
      "\n",
      "   MarkDown5         CPI  Unemployment  IsHoliday_y  \n",
      "0        NaN  211.096358         8.106        False  \n",
      "1        NaN  211.096358         8.106        False  \n",
      "2        NaN  211.096358         8.106        False  \n",
      "3        NaN  211.096358         8.106        False  \n",
      "4        NaN  211.096358         8.106        False  \n",
      "   Store  Dept       Date  IsHoliday_x Type    Size  Temperature  Fuel_Price  \\\n",
      "0      1     1 2012-11-02        False    A  151315        55.32       3.386   \n",
      "1      1     2 2012-11-02        False    A  151315        55.32       3.386   \n",
      "2      1     3 2012-11-02        False    A  151315        55.32       3.386   \n",
      "3      1     4 2012-11-02        False    A  151315        55.32       3.386   \n",
      "4      1     5 2012-11-02        False    A  151315        55.32       3.386   \n",
      "\n",
      "   MarkDown1  MarkDown2  MarkDown3  MarkDown4  MarkDown5         CPI  \\\n",
      "0    6766.44     5147.7      50.82     3639.9    2737.42  223.462779   \n",
      "1    6766.44     5147.7      50.82     3639.9    2737.42  223.462779   \n",
      "2    6766.44     5147.7      50.82     3639.9    2737.42  223.462779   \n",
      "3    6766.44     5147.7      50.82     3639.9    2737.42  223.462779   \n",
      "4    6766.44     5147.7      50.82     3639.9    2737.42  223.462779   \n",
      "\n",
      "   Unemployment  IsHoliday_y  \n",
      "0         6.573        False  \n",
      "1         6.573        False  \n",
      "2         6.573        False  \n",
      "3         6.573        False  \n",
      "4         6.573        False  \n"
     ]
    }
   ],
   "source": [
    "combined_train = pd.merge(combined_train, df_feature, how = \"inner\", on=[\"Store\",\"Date\"])\n",
    "combined_test = pd.merge(combined_test, df_feature, how = \"inner\", on=[\"Store\",\"Date\"])\n",
    "\n",
    "print(combined_train.head())\n",
    "print(combined_test.head())"
   ]
  },
  {
   "cell_type": "code",
   "execution_count": 16,
   "metadata": {
    "_uuid": "93563cc728453259d82ac6009e20f3b967f2f889"
   },
   "outputs": [
    {
     "name": "stdout",
     "output_type": "stream",
     "text": [
      "   Store  Dept       Date  Weekly_Sales  IsHoliday_x Type    Size  \\\n",
      "0      1     1 2010-02-05      24924.50        False    A  151315   \n",
      "1      1     2 2010-02-05      50605.27        False    A  151315   \n",
      "2      1     3 2010-02-05      13740.12        False    A  151315   \n",
      "3      1     4 2010-02-05      39954.04        False    A  151315   \n",
      "4      1     5 2010-02-05      32229.38        False    A  151315   \n",
      "\n",
      "   Temperature  Fuel_Price  MarkDown1  MarkDown2  MarkDown3  MarkDown4  \\\n",
      "0        42.31       2.572        NaN        NaN        NaN        NaN   \n",
      "1        42.31       2.572        NaN        NaN        NaN        NaN   \n",
      "2        42.31       2.572        NaN        NaN        NaN        NaN   \n",
      "3        42.31       2.572        NaN        NaN        NaN        NaN   \n",
      "4        42.31       2.572        NaN        NaN        NaN        NaN   \n",
      "\n",
      "   MarkDown5         CPI  Unemployment  \n",
      "0        NaN  211.096358         8.106  \n",
      "1        NaN  211.096358         8.106  \n",
      "2        NaN  211.096358         8.106  \n",
      "3        NaN  211.096358         8.106  \n",
      "4        NaN  211.096358         8.106  \n",
      "   Store  Dept       Date  IsHoliday_x Type    Size  Temperature  Fuel_Price  \\\n",
      "0      1     1 2012-11-02        False    A  151315        55.32       3.386   \n",
      "1      1     2 2012-11-02        False    A  151315        55.32       3.386   \n",
      "2      1     3 2012-11-02        False    A  151315        55.32       3.386   \n",
      "3      1     4 2012-11-02        False    A  151315        55.32       3.386   \n",
      "4      1     5 2012-11-02        False    A  151315        55.32       3.386   \n",
      "\n",
      "   MarkDown1  MarkDown2  MarkDown3  MarkDown4  MarkDown5         CPI  \\\n",
      "0    6766.44     5147.7      50.82     3639.9    2737.42  223.462779   \n",
      "1    6766.44     5147.7      50.82     3639.9    2737.42  223.462779   \n",
      "2    6766.44     5147.7      50.82     3639.9    2737.42  223.462779   \n",
      "3    6766.44     5147.7      50.82     3639.9    2737.42  223.462779   \n",
      "4    6766.44     5147.7      50.82     3639.9    2737.42  223.462779   \n",
      "\n",
      "   Unemployment  \n",
      "0         6.573  \n",
      "1         6.573  \n",
      "2         6.573  \n",
      "3         6.573  \n",
      "4         6.573  \n"
     ]
    }
   ],
   "source": [
    "# Drop Extra IsHoliday_y from both combined data set\n",
    "combined_train = combined_train.drop([\"IsHoliday_y\"], axis=1)\n",
    "combined_test = combined_test.drop([\"IsHoliday_y\"], axis=1)\n",
    "\n",
    "print(combined_train.head())\n",
    "print(combined_test.head())"
   ]
  },
  {
   "cell_type": "code",
   "execution_count": 17,
   "metadata": {
    "_uuid": "b2f951ccd30be0d4b63604c05b6046a06bb34ba0"
   },
   "outputs": [
    {
     "data": {
      "text/html": [
       "<div>\n",
       "<style scoped>\n",
       "    .dataframe tbody tr th:only-of-type {\n",
       "        vertical-align: middle;\n",
       "    }\n",
       "\n",
       "    .dataframe tbody tr th {\n",
       "        vertical-align: top;\n",
       "    }\n",
       "\n",
       "    .dataframe thead th {\n",
       "        text-align: right;\n",
       "    }\n",
       "</style>\n",
       "<table border=\"1\" class=\"dataframe\">\n",
       "  <thead>\n",
       "    <tr style=\"text-align: right;\">\n",
       "      <th></th>\n",
       "      <th>Store</th>\n",
       "      <th>Dept</th>\n",
       "      <th>Weekly_Sales</th>\n",
       "      <th>Size</th>\n",
       "      <th>Temperature</th>\n",
       "      <th>Fuel_Price</th>\n",
       "      <th>MarkDown1</th>\n",
       "      <th>MarkDown2</th>\n",
       "      <th>MarkDown3</th>\n",
       "      <th>MarkDown4</th>\n",
       "      <th>MarkDown5</th>\n",
       "      <th>CPI</th>\n",
       "      <th>Unemployment</th>\n",
       "    </tr>\n",
       "  </thead>\n",
       "  <tbody>\n",
       "    <tr>\n",
       "      <th>count</th>\n",
       "      <td>421570.000000</td>\n",
       "      <td>421570.000000</td>\n",
       "      <td>421570.000000</td>\n",
       "      <td>421570.000000</td>\n",
       "      <td>421570.000000</td>\n",
       "      <td>421570.000000</td>\n",
       "      <td>150681.000000</td>\n",
       "      <td>111248.000000</td>\n",
       "      <td>137091.000000</td>\n",
       "      <td>134967.000000</td>\n",
       "      <td>151432.000000</td>\n",
       "      <td>421570.000000</td>\n",
       "      <td>421570.000000</td>\n",
       "    </tr>\n",
       "    <tr>\n",
       "      <th>mean</th>\n",
       "      <td>22.200546</td>\n",
       "      <td>44.260317</td>\n",
       "      <td>15981.258123</td>\n",
       "      <td>136727.915739</td>\n",
       "      <td>60.090059</td>\n",
       "      <td>3.361027</td>\n",
       "      <td>7246.420196</td>\n",
       "      <td>3334.628621</td>\n",
       "      <td>1439.421384</td>\n",
       "      <td>3383.168256</td>\n",
       "      <td>4628.975079</td>\n",
       "      <td>171.201947</td>\n",
       "      <td>7.960289</td>\n",
       "    </tr>\n",
       "    <tr>\n",
       "      <th>std</th>\n",
       "      <td>12.785297</td>\n",
       "      <td>30.492054</td>\n",
       "      <td>22711.183519</td>\n",
       "      <td>60980.583328</td>\n",
       "      <td>18.447931</td>\n",
       "      <td>0.458515</td>\n",
       "      <td>8291.221345</td>\n",
       "      <td>9475.357325</td>\n",
       "      <td>9623.078290</td>\n",
       "      <td>6292.384031</td>\n",
       "      <td>5962.887455</td>\n",
       "      <td>39.159276</td>\n",
       "      <td>1.863296</td>\n",
       "    </tr>\n",
       "    <tr>\n",
       "      <th>min</th>\n",
       "      <td>1.000000</td>\n",
       "      <td>1.000000</td>\n",
       "      <td>-4988.940000</td>\n",
       "      <td>34875.000000</td>\n",
       "      <td>-2.060000</td>\n",
       "      <td>2.472000</td>\n",
       "      <td>0.270000</td>\n",
       "      <td>-265.760000</td>\n",
       "      <td>-29.100000</td>\n",
       "      <td>0.220000</td>\n",
       "      <td>135.160000</td>\n",
       "      <td>126.064000</td>\n",
       "      <td>3.879000</td>\n",
       "    </tr>\n",
       "    <tr>\n",
       "      <th>25%</th>\n",
       "      <td>11.000000</td>\n",
       "      <td>18.000000</td>\n",
       "      <td>2079.650000</td>\n",
       "      <td>93638.000000</td>\n",
       "      <td>46.680000</td>\n",
       "      <td>2.933000</td>\n",
       "      <td>2240.270000</td>\n",
       "      <td>41.600000</td>\n",
       "      <td>5.080000</td>\n",
       "      <td>504.220000</td>\n",
       "      <td>1878.440000</td>\n",
       "      <td>132.022667</td>\n",
       "      <td>6.891000</td>\n",
       "    </tr>\n",
       "    <tr>\n",
       "      <th>50%</th>\n",
       "      <td>22.000000</td>\n",
       "      <td>37.000000</td>\n",
       "      <td>7612.030000</td>\n",
       "      <td>140167.000000</td>\n",
       "      <td>62.090000</td>\n",
       "      <td>3.452000</td>\n",
       "      <td>5347.450000</td>\n",
       "      <td>192.000000</td>\n",
       "      <td>24.600000</td>\n",
       "      <td>1481.310000</td>\n",
       "      <td>3359.450000</td>\n",
       "      <td>182.318780</td>\n",
       "      <td>7.866000</td>\n",
       "    </tr>\n",
       "    <tr>\n",
       "      <th>75%</th>\n",
       "      <td>33.000000</td>\n",
       "      <td>74.000000</td>\n",
       "      <td>20205.852500</td>\n",
       "      <td>202505.000000</td>\n",
       "      <td>74.280000</td>\n",
       "      <td>3.738000</td>\n",
       "      <td>9210.900000</td>\n",
       "      <td>1926.940000</td>\n",
       "      <td>103.990000</td>\n",
       "      <td>3595.040000</td>\n",
       "      <td>5563.800000</td>\n",
       "      <td>212.416993</td>\n",
       "      <td>8.572000</td>\n",
       "    </tr>\n",
       "    <tr>\n",
       "      <th>max</th>\n",
       "      <td>45.000000</td>\n",
       "      <td>99.000000</td>\n",
       "      <td>693099.360000</td>\n",
       "      <td>219622.000000</td>\n",
       "      <td>100.140000</td>\n",
       "      <td>4.468000</td>\n",
       "      <td>88646.760000</td>\n",
       "      <td>104519.540000</td>\n",
       "      <td>141630.610000</td>\n",
       "      <td>67474.850000</td>\n",
       "      <td>108519.280000</td>\n",
       "      <td>227.232807</td>\n",
       "      <td>14.313000</td>\n",
       "    </tr>\n",
       "  </tbody>\n",
       "</table>\n",
       "</div>"
      ],
      "text/plain": [
       "               Store           Dept   Weekly_Sales           Size  \\\n",
       "count  421570.000000  421570.000000  421570.000000  421570.000000   \n",
       "mean       22.200546      44.260317   15981.258123  136727.915739   \n",
       "std        12.785297      30.492054   22711.183519   60980.583328   \n",
       "min         1.000000       1.000000   -4988.940000   34875.000000   \n",
       "25%        11.000000      18.000000    2079.650000   93638.000000   \n",
       "50%        22.000000      37.000000    7612.030000  140167.000000   \n",
       "75%        33.000000      74.000000   20205.852500  202505.000000   \n",
       "max        45.000000      99.000000  693099.360000  219622.000000   \n",
       "\n",
       "         Temperature     Fuel_Price      MarkDown1      MarkDown2  \\\n",
       "count  421570.000000  421570.000000  150681.000000  111248.000000   \n",
       "mean       60.090059       3.361027    7246.420196    3334.628621   \n",
       "std        18.447931       0.458515    8291.221345    9475.357325   \n",
       "min        -2.060000       2.472000       0.270000    -265.760000   \n",
       "25%        46.680000       2.933000    2240.270000      41.600000   \n",
       "50%        62.090000       3.452000    5347.450000     192.000000   \n",
       "75%        74.280000       3.738000    9210.900000    1926.940000   \n",
       "max       100.140000       4.468000   88646.760000  104519.540000   \n",
       "\n",
       "           MarkDown3      MarkDown4      MarkDown5            CPI  \\\n",
       "count  137091.000000  134967.000000  151432.000000  421570.000000   \n",
       "mean     1439.421384    3383.168256    4628.975079     171.201947   \n",
       "std      9623.078290    6292.384031    5962.887455      39.159276   \n",
       "min       -29.100000       0.220000     135.160000     126.064000   \n",
       "25%         5.080000     504.220000    1878.440000     132.022667   \n",
       "50%        24.600000    1481.310000    3359.450000     182.318780   \n",
       "75%       103.990000    3595.040000    5563.800000     212.416993   \n",
       "max    141630.610000   67474.850000  108519.280000     227.232807   \n",
       "\n",
       "        Unemployment  \n",
       "count  421570.000000  \n",
       "mean        7.960289  \n",
       "std         1.863296  \n",
       "min         3.879000  \n",
       "25%         6.891000  \n",
       "50%         7.866000  \n",
       "75%         8.572000  \n",
       "max        14.313000  "
      ]
     },
     "execution_count": 17,
     "metadata": {},
     "output_type": "execute_result"
    }
   ],
   "source": [
    "combined_train.describe()"
   ]
  },
  {
   "cell_type": "markdown",
   "metadata": {
    "_uuid": "e19e34d6c4a2e92466b1acdebfcdc339fcb0657b"
   },
   "source": [
    "**NOTE:** Weekly_Sales, Markdown2 & Markdown3 have negative values in the combined_train set, which need to be replaced by 0"
   ]
  },
  {
   "cell_type": "code",
   "execution_count": 18,
   "metadata": {
    "_uuid": "2541041b07ca4cbbcc0251f812adc7d249394bd1"
   },
   "outputs": [
    {
     "data": {
      "text/html": [
       "<div>\n",
       "<style scoped>\n",
       "    .dataframe tbody tr th:only-of-type {\n",
       "        vertical-align: middle;\n",
       "    }\n",
       "\n",
       "    .dataframe tbody tr th {\n",
       "        vertical-align: top;\n",
       "    }\n",
       "\n",
       "    .dataframe thead th {\n",
       "        text-align: right;\n",
       "    }\n",
       "</style>\n",
       "<table border=\"1\" class=\"dataframe\">\n",
       "  <thead>\n",
       "    <tr style=\"text-align: right;\">\n",
       "      <th></th>\n",
       "      <th>Store</th>\n",
       "      <th>Dept</th>\n",
       "      <th>Size</th>\n",
       "      <th>Temperature</th>\n",
       "      <th>Fuel_Price</th>\n",
       "      <th>MarkDown1</th>\n",
       "      <th>MarkDown2</th>\n",
       "      <th>MarkDown3</th>\n",
       "      <th>MarkDown4</th>\n",
       "      <th>MarkDown5</th>\n",
       "      <th>CPI</th>\n",
       "      <th>Unemployment</th>\n",
       "    </tr>\n",
       "  </thead>\n",
       "  <tbody>\n",
       "    <tr>\n",
       "      <th>count</th>\n",
       "      <td>115064.000000</td>\n",
       "      <td>115064.000000</td>\n",
       "      <td>115064.000000</td>\n",
       "      <td>115064.000000</td>\n",
       "      <td>115064.000000</td>\n",
       "      <td>114915.000000</td>\n",
       "      <td>86437.000000</td>\n",
       "      <td>105235.000000</td>\n",
       "      <td>102176.000000</td>\n",
       "      <td>115064.000000</td>\n",
       "      <td>76902.000000</td>\n",
       "      <td>76902.000000</td>\n",
       "    </tr>\n",
       "    <tr>\n",
       "      <th>mean</th>\n",
       "      <td>22.238207</td>\n",
       "      <td>44.339524</td>\n",
       "      <td>136497.688921</td>\n",
       "      <td>53.941804</td>\n",
       "      <td>3.581546</td>\n",
       "      <td>7689.216439</td>\n",
       "      <td>3734.051729</td>\n",
       "      <td>2403.088666</td>\n",
       "      <td>3356.219071</td>\n",
       "      <td>3922.681189</td>\n",
       "      <td>176.961347</td>\n",
       "      <td>6.868733</td>\n",
       "    </tr>\n",
       "    <tr>\n",
       "      <th>std</th>\n",
       "      <td>12.809930</td>\n",
       "      <td>30.656410</td>\n",
       "      <td>61106.926438</td>\n",
       "      <td>18.724153</td>\n",
       "      <td>0.239442</td>\n",
       "      <td>10698.760716</td>\n",
       "      <td>8323.495014</td>\n",
       "      <td>13767.939313</td>\n",
       "      <td>7570.501545</td>\n",
       "      <td>19445.150745</td>\n",
       "      <td>41.239967</td>\n",
       "      <td>1.583427</td>\n",
       "    </tr>\n",
       "    <tr>\n",
       "      <th>min</th>\n",
       "      <td>1.000000</td>\n",
       "      <td>1.000000</td>\n",
       "      <td>34875.000000</td>\n",
       "      <td>-7.290000</td>\n",
       "      <td>2.872000</td>\n",
       "      <td>-2781.450000</td>\n",
       "      <td>-35.740000</td>\n",
       "      <td>-179.260000</td>\n",
       "      <td>0.220000</td>\n",
       "      <td>-185.170000</td>\n",
       "      <td>131.236226</td>\n",
       "      <td>3.684000</td>\n",
       "    </tr>\n",
       "    <tr>\n",
       "      <th>25%</th>\n",
       "      <td>11.000000</td>\n",
       "      <td>18.000000</td>\n",
       "      <td>93638.000000</td>\n",
       "      <td>39.820000</td>\n",
       "      <td>3.431000</td>\n",
       "      <td>1966.460000</td>\n",
       "      <td>180.350000</td>\n",
       "      <td>15.100000</td>\n",
       "      <td>155.460000</td>\n",
       "      <td>1309.300000</td>\n",
       "      <td>138.402033</td>\n",
       "      <td>5.771000</td>\n",
       "    </tr>\n",
       "    <tr>\n",
       "      <th>50%</th>\n",
       "      <td>22.000000</td>\n",
       "      <td>37.000000</td>\n",
       "      <td>140167.000000</td>\n",
       "      <td>54.470000</td>\n",
       "      <td>3.606000</td>\n",
       "      <td>4842.290000</td>\n",
       "      <td>742.590000</td>\n",
       "      <td>78.260000</td>\n",
       "      <td>840.940000</td>\n",
       "      <td>2390.430000</td>\n",
       "      <td>192.304445</td>\n",
       "      <td>6.806000</td>\n",
       "    </tr>\n",
       "    <tr>\n",
       "      <th>75%</th>\n",
       "      <td>33.000000</td>\n",
       "      <td>74.000000</td>\n",
       "      <td>202505.000000</td>\n",
       "      <td>67.350000</td>\n",
       "      <td>3.766000</td>\n",
       "      <td>9439.140000</td>\n",
       "      <td>2735.670000</td>\n",
       "      <td>272.580000</td>\n",
       "      <td>3096.920000</td>\n",
       "      <td>4227.270000</td>\n",
       "      <td>223.244532</td>\n",
       "      <td>8.036000</td>\n",
       "    </tr>\n",
       "    <tr>\n",
       "      <th>max</th>\n",
       "      <td>45.000000</td>\n",
       "      <td>99.000000</td>\n",
       "      <td>219622.000000</td>\n",
       "      <td>101.950000</td>\n",
       "      <td>4.125000</td>\n",
       "      <td>103184.980000</td>\n",
       "      <td>71074.170000</td>\n",
       "      <td>149483.310000</td>\n",
       "      <td>65344.640000</td>\n",
       "      <td>771448.100000</td>\n",
       "      <td>228.976456</td>\n",
       "      <td>10.199000</td>\n",
       "    </tr>\n",
       "  </tbody>\n",
       "</table>\n",
       "</div>"
      ],
      "text/plain": [
       "               Store           Dept           Size    Temperature  \\\n",
       "count  115064.000000  115064.000000  115064.000000  115064.000000   \n",
       "mean       22.238207      44.339524  136497.688921      53.941804   \n",
       "std        12.809930      30.656410   61106.926438      18.724153   \n",
       "min         1.000000       1.000000   34875.000000      -7.290000   \n",
       "25%        11.000000      18.000000   93638.000000      39.820000   \n",
       "50%        22.000000      37.000000  140167.000000      54.470000   \n",
       "75%        33.000000      74.000000  202505.000000      67.350000   \n",
       "max        45.000000      99.000000  219622.000000     101.950000   \n",
       "\n",
       "          Fuel_Price      MarkDown1     MarkDown2      MarkDown3  \\\n",
       "count  115064.000000  114915.000000  86437.000000  105235.000000   \n",
       "mean        3.581546    7689.216439   3734.051729    2403.088666   \n",
       "std         0.239442   10698.760716   8323.495014   13767.939313   \n",
       "min         2.872000   -2781.450000    -35.740000    -179.260000   \n",
       "25%         3.431000    1966.460000    180.350000      15.100000   \n",
       "50%         3.606000    4842.290000    742.590000      78.260000   \n",
       "75%         3.766000    9439.140000   2735.670000     272.580000   \n",
       "max         4.125000  103184.980000  71074.170000  149483.310000   \n",
       "\n",
       "           MarkDown4      MarkDown5           CPI  Unemployment  \n",
       "count  102176.000000  115064.000000  76902.000000  76902.000000  \n",
       "mean     3356.219071    3922.681189    176.961347      6.868733  \n",
       "std      7570.501545   19445.150745     41.239967      1.583427  \n",
       "min         0.220000    -185.170000    131.236226      3.684000  \n",
       "25%       155.460000    1309.300000    138.402033      5.771000  \n",
       "50%       840.940000    2390.430000    192.304445      6.806000  \n",
       "75%      3096.920000    4227.270000    223.244532      8.036000  \n",
       "max     65344.640000  771448.100000    228.976456     10.199000  "
      ]
     },
     "execution_count": 18,
     "metadata": {},
     "output_type": "execute_result"
    }
   ],
   "source": [
    "combined_test.describe()"
   ]
  },
  {
   "cell_type": "markdown",
   "metadata": {
    "_uuid": "95bc656fd4426a46106099c39246bae2f5b46ecf"
   },
   "source": [
    "**NOTE:** Markdown1, Markdown2, Markdown3 & Markdown5 have negative values in the combined_test set, which need to be replaced by 0"
   ]
  },
  {
   "cell_type": "markdown",
   "metadata": {
    "_uuid": "d5d56d1a563cc606d232ceebc4eb5308cdc65a0d"
   },
   "source": [
    "# 5. Data pre-processing"
   ]
  },
  {
   "cell_type": "markdown",
   "metadata": {
    "_uuid": "e1dd3b30a6a04e88e0b0691da5c2ac2becc2d112"
   },
   "source": [
    "### 5.1 Replace missing Values by 0"
   ]
  },
  {
   "cell_type": "code",
   "execution_count": 19,
   "metadata": {
    "_uuid": "9ad692f9292ec0bc7dd4a0711c3cc358e3acd94f"
   },
   "outputs": [
    {
     "name": "stdout",
     "output_type": "stream",
     "text": [
      "Store               0\n",
      "Dept                0\n",
      "Date                0\n",
      "IsHoliday_x         0\n",
      "Type                0\n",
      "Size                0\n",
      "Temperature         0\n",
      "Fuel_Price          0\n",
      "MarkDown1         149\n",
      "MarkDown2       28627\n",
      "MarkDown3        9829\n",
      "MarkDown4       12888\n",
      "MarkDown5           0\n",
      "CPI             38162\n",
      "Unemployment    38162\n",
      "dtype: int64\n",
      "Store                0\n",
      "Dept                 0\n",
      "Date                 0\n",
      "Weekly_Sales         0\n",
      "IsHoliday_x          0\n",
      "Type                 0\n",
      "Size                 0\n",
      "Temperature          0\n",
      "Fuel_Price           0\n",
      "MarkDown1       270889\n",
      "MarkDown2       310322\n",
      "MarkDown3       284479\n",
      "MarkDown4       286603\n",
      "MarkDown5       270138\n",
      "CPI                  0\n",
      "Unemployment         0\n",
      "dtype: int64\n"
     ]
    }
   ],
   "source": [
    "# Check for count of missing values in combined_train, combined_test\n",
    "\n",
    "print(combined_test.isnull().sum())\n",
    "print(combined_train.isnull().sum())"
   ]
  },
  {
   "cell_type": "code",
   "execution_count": 20,
   "metadata": {
    "_uuid": "4b42851bd2216bf29925e337922d2081824983a3"
   },
   "outputs": [],
   "source": [
    "processed_train = combined_train.fillna(0)\n",
    "processed_test = combined_test.fillna(0)"
   ]
  },
  {
   "cell_type": "markdown",
   "metadata": {
    "_uuid": "31a9b5670687822e66afe7fee80b637b0d856f0e"
   },
   "source": [
    "### 5.2 Replace -ve Markdown values by 0 in both processed_train and processed_test"
   ]
  },
  {
   "cell_type": "code",
   "execution_count": 21,
   "metadata": {
    "_uuid": "3bde07424368af65577587ccfe908b371c9a6f03"
   },
   "outputs": [
    {
     "data": {
      "text/html": [
       "<div>\n",
       "<style scoped>\n",
       "    .dataframe tbody tr th:only-of-type {\n",
       "        vertical-align: middle;\n",
       "    }\n",
       "\n",
       "    .dataframe tbody tr th {\n",
       "        vertical-align: top;\n",
       "    }\n",
       "\n",
       "    .dataframe thead th {\n",
       "        text-align: right;\n",
       "    }\n",
       "</style>\n",
       "<table border=\"1\" class=\"dataframe\">\n",
       "  <thead>\n",
       "    <tr style=\"text-align: right;\">\n",
       "      <th></th>\n",
       "      <th>Store</th>\n",
       "      <th>Dept</th>\n",
       "      <th>Weekly_Sales</th>\n",
       "      <th>Size</th>\n",
       "      <th>Temperature</th>\n",
       "      <th>Fuel_Price</th>\n",
       "      <th>MarkDown1</th>\n",
       "      <th>MarkDown2</th>\n",
       "      <th>MarkDown3</th>\n",
       "      <th>MarkDown4</th>\n",
       "      <th>MarkDown5</th>\n",
       "      <th>CPI</th>\n",
       "      <th>Unemployment</th>\n",
       "    </tr>\n",
       "  </thead>\n",
       "  <tbody>\n",
       "    <tr>\n",
       "      <th>count</th>\n",
       "      <td>421570.000000</td>\n",
       "      <td>421570.000000</td>\n",
       "      <td>421570.000000</td>\n",
       "      <td>421570.000000</td>\n",
       "      <td>421570.000000</td>\n",
       "      <td>421570.000000</td>\n",
       "      <td>421570.000000</td>\n",
       "      <td>421570.000000</td>\n",
       "      <td>421570.000000</td>\n",
       "      <td>421570.000000</td>\n",
       "      <td>421570.000000</td>\n",
       "      <td>421570.000000</td>\n",
       "      <td>421570.000000</td>\n",
       "    </tr>\n",
       "    <tr>\n",
       "      <th>mean</th>\n",
       "      <td>22.200546</td>\n",
       "      <td>44.260317</td>\n",
       "      <td>15981.467250</td>\n",
       "      <td>136727.915739</td>\n",
       "      <td>60.090059</td>\n",
       "      <td>3.361027</td>\n",
       "      <td>2590.074819</td>\n",
       "      <td>880.070274</td>\n",
       "      <td>468.092929</td>\n",
       "      <td>1083.132268</td>\n",
       "      <td>1662.772385</td>\n",
       "      <td>171.201947</td>\n",
       "      <td>7.960289</td>\n",
       "    </tr>\n",
       "    <tr>\n",
       "      <th>std</th>\n",
       "      <td>12.785297</td>\n",
       "      <td>30.492054</td>\n",
       "      <td>22711.032446</td>\n",
       "      <td>60980.583328</td>\n",
       "      <td>18.447931</td>\n",
       "      <td>0.458515</td>\n",
       "      <td>6052.385934</td>\n",
       "      <td>5084.520381</td>\n",
       "      <td>5528.872994</td>\n",
       "      <td>3894.529945</td>\n",
       "      <td>4207.629321</td>\n",
       "      <td>39.159276</td>\n",
       "      <td>1.863296</td>\n",
       "    </tr>\n",
       "    <tr>\n",
       "      <th>min</th>\n",
       "      <td>1.000000</td>\n",
       "      <td>1.000000</td>\n",
       "      <td>0.000000</td>\n",
       "      <td>34875.000000</td>\n",
       "      <td>-2.060000</td>\n",
       "      <td>2.472000</td>\n",
       "      <td>0.000000</td>\n",
       "      <td>0.000000</td>\n",
       "      <td>0.000000</td>\n",
       "      <td>0.000000</td>\n",
       "      <td>0.000000</td>\n",
       "      <td>126.064000</td>\n",
       "      <td>3.879000</td>\n",
       "    </tr>\n",
       "    <tr>\n",
       "      <th>25%</th>\n",
       "      <td>11.000000</td>\n",
       "      <td>18.000000</td>\n",
       "      <td>2079.650000</td>\n",
       "      <td>93638.000000</td>\n",
       "      <td>46.680000</td>\n",
       "      <td>2.933000</td>\n",
       "      <td>0.000000</td>\n",
       "      <td>0.000000</td>\n",
       "      <td>0.000000</td>\n",
       "      <td>0.000000</td>\n",
       "      <td>0.000000</td>\n",
       "      <td>132.022667</td>\n",
       "      <td>6.891000</td>\n",
       "    </tr>\n",
       "    <tr>\n",
       "      <th>50%</th>\n",
       "      <td>22.000000</td>\n",
       "      <td>37.000000</td>\n",
       "      <td>7612.030000</td>\n",
       "      <td>140167.000000</td>\n",
       "      <td>62.090000</td>\n",
       "      <td>3.452000</td>\n",
       "      <td>0.000000</td>\n",
       "      <td>0.000000</td>\n",
       "      <td>0.000000</td>\n",
       "      <td>0.000000</td>\n",
       "      <td>0.000000</td>\n",
       "      <td>182.318780</td>\n",
       "      <td>7.866000</td>\n",
       "    </tr>\n",
       "    <tr>\n",
       "      <th>75%</th>\n",
       "      <td>33.000000</td>\n",
       "      <td>74.000000</td>\n",
       "      <td>20205.852500</td>\n",
       "      <td>202505.000000</td>\n",
       "      <td>74.280000</td>\n",
       "      <td>3.738000</td>\n",
       "      <td>2809.050000</td>\n",
       "      <td>2.200000</td>\n",
       "      <td>4.540000</td>\n",
       "      <td>425.290000</td>\n",
       "      <td>2168.040000</td>\n",
       "      <td>212.416993</td>\n",
       "      <td>8.572000</td>\n",
       "    </tr>\n",
       "    <tr>\n",
       "      <th>max</th>\n",
       "      <td>45.000000</td>\n",
       "      <td>99.000000</td>\n",
       "      <td>693099.360000</td>\n",
       "      <td>219622.000000</td>\n",
       "      <td>100.140000</td>\n",
       "      <td>4.468000</td>\n",
       "      <td>88646.760000</td>\n",
       "      <td>104519.540000</td>\n",
       "      <td>141630.610000</td>\n",
       "      <td>67474.850000</td>\n",
       "      <td>108519.280000</td>\n",
       "      <td>227.232807</td>\n",
       "      <td>14.313000</td>\n",
       "    </tr>\n",
       "  </tbody>\n",
       "</table>\n",
       "</div>"
      ],
      "text/plain": [
       "               Store           Dept   Weekly_Sales           Size  \\\n",
       "count  421570.000000  421570.000000  421570.000000  421570.000000   \n",
       "mean       22.200546      44.260317   15981.467250  136727.915739   \n",
       "std        12.785297      30.492054   22711.032446   60980.583328   \n",
       "min         1.000000       1.000000       0.000000   34875.000000   \n",
       "25%        11.000000      18.000000    2079.650000   93638.000000   \n",
       "50%        22.000000      37.000000    7612.030000  140167.000000   \n",
       "75%        33.000000      74.000000   20205.852500  202505.000000   \n",
       "max        45.000000      99.000000  693099.360000  219622.000000   \n",
       "\n",
       "         Temperature     Fuel_Price      MarkDown1      MarkDown2  \\\n",
       "count  421570.000000  421570.000000  421570.000000  421570.000000   \n",
       "mean       60.090059       3.361027    2590.074819     880.070274   \n",
       "std        18.447931       0.458515    6052.385934    5084.520381   \n",
       "min        -2.060000       2.472000       0.000000       0.000000   \n",
       "25%        46.680000       2.933000       0.000000       0.000000   \n",
       "50%        62.090000       3.452000       0.000000       0.000000   \n",
       "75%        74.280000       3.738000    2809.050000       2.200000   \n",
       "max       100.140000       4.468000   88646.760000  104519.540000   \n",
       "\n",
       "           MarkDown3      MarkDown4      MarkDown5            CPI  \\\n",
       "count  421570.000000  421570.000000  421570.000000  421570.000000   \n",
       "mean      468.092929    1083.132268    1662.772385     171.201947   \n",
       "std      5528.872994    3894.529945    4207.629321      39.159276   \n",
       "min         0.000000       0.000000       0.000000     126.064000   \n",
       "25%         0.000000       0.000000       0.000000     132.022667   \n",
       "50%         0.000000       0.000000       0.000000     182.318780   \n",
       "75%         4.540000     425.290000    2168.040000     212.416993   \n",
       "max    141630.610000   67474.850000  108519.280000     227.232807   \n",
       "\n",
       "        Unemployment  \n",
       "count  421570.000000  \n",
       "mean        7.960289  \n",
       "std         1.863296  \n",
       "min         3.879000  \n",
       "25%         6.891000  \n",
       "50%         7.866000  \n",
       "75%         8.572000  \n",
       "max        14.313000  "
      ]
     },
     "execution_count": 21,
     "metadata": {},
     "output_type": "execute_result"
    }
   ],
   "source": [
    "# %% Processed_train\n",
    "processed_train.loc[processed_train['Weekly_Sales'] < 0.0,'Weekly_Sales'] = 0.0\n",
    "processed_train.loc[processed_train['MarkDown2'] < 0.0,'MarkDown2'] = 0.0\n",
    "processed_train.loc[processed_train['MarkDown3'] < 0.0,'MarkDown3'] = 0.0\n",
    "processed_train.describe()"
   ]
  },
  {
   "cell_type": "code",
   "execution_count": 22,
   "metadata": {
    "_uuid": "72f2239f1ba040df2c787246aa7f7b40ee02a4d9"
   },
   "outputs": [
    {
     "data": {
      "text/html": [
       "<div>\n",
       "<style scoped>\n",
       "    .dataframe tbody tr th:only-of-type {\n",
       "        vertical-align: middle;\n",
       "    }\n",
       "\n",
       "    .dataframe tbody tr th {\n",
       "        vertical-align: top;\n",
       "    }\n",
       "\n",
       "    .dataframe thead th {\n",
       "        text-align: right;\n",
       "    }\n",
       "</style>\n",
       "<table border=\"1\" class=\"dataframe\">\n",
       "  <thead>\n",
       "    <tr style=\"text-align: right;\">\n",
       "      <th></th>\n",
       "      <th>Store</th>\n",
       "      <th>Dept</th>\n",
       "      <th>Size</th>\n",
       "      <th>Temperature</th>\n",
       "      <th>Fuel_Price</th>\n",
       "      <th>MarkDown1</th>\n",
       "      <th>MarkDown2</th>\n",
       "      <th>MarkDown3</th>\n",
       "      <th>MarkDown4</th>\n",
       "      <th>MarkDown5</th>\n",
       "      <th>CPI</th>\n",
       "      <th>Unemployment</th>\n",
       "    </tr>\n",
       "  </thead>\n",
       "  <tbody>\n",
       "    <tr>\n",
       "      <th>count</th>\n",
       "      <td>115064.000000</td>\n",
       "      <td>115064.000000</td>\n",
       "      <td>115064.000000</td>\n",
       "      <td>115064.000000</td>\n",
       "      <td>115064.000000</td>\n",
       "      <td>115064.000000</td>\n",
       "      <td>115064.000000</td>\n",
       "      <td>115064.000000</td>\n",
       "      <td>115064.000000</td>\n",
       "      <td>115064.000000</td>\n",
       "      <td>115064.000000</td>\n",
       "      <td>115064.000000</td>\n",
       "    </tr>\n",
       "    <tr>\n",
       "      <th>mean</th>\n",
       "      <td>22.238207</td>\n",
       "      <td>44.339524</td>\n",
       "      <td>136497.688921</td>\n",
       "      <td>53.941804</td>\n",
       "      <td>3.581546</td>\n",
       "      <td>7681.106189</td>\n",
       "      <td>2805.085103</td>\n",
       "      <td>2198.021241</td>\n",
       "      <td>2980.298267</td>\n",
       "      <td>3922.806060</td>\n",
       "      <td>118.270541</td>\n",
       "      <td>4.590657</td>\n",
       "    </tr>\n",
       "    <tr>\n",
       "      <th>std</th>\n",
       "      <td>12.809930</td>\n",
       "      <td>30.656410</td>\n",
       "      <td>61106.926438</td>\n",
       "      <td>18.724153</td>\n",
       "      <td>0.239442</td>\n",
       "      <td>10693.903634</td>\n",
       "      <td>7392.542823</td>\n",
       "      <td>13183.852299</td>\n",
       "      <td>7212.030921</td>\n",
       "      <td>19445.125049</td>\n",
       "      <td>89.878361</td>\n",
       "      <td>3.483338</td>\n",
       "    </tr>\n",
       "    <tr>\n",
       "      <th>min</th>\n",
       "      <td>1.000000</td>\n",
       "      <td>1.000000</td>\n",
       "      <td>34875.000000</td>\n",
       "      <td>-7.290000</td>\n",
       "      <td>2.872000</td>\n",
       "      <td>0.000000</td>\n",
       "      <td>0.000000</td>\n",
       "      <td>0.000000</td>\n",
       "      <td>0.000000</td>\n",
       "      <td>0.000000</td>\n",
       "      <td>0.000000</td>\n",
       "      <td>0.000000</td>\n",
       "    </tr>\n",
       "    <tr>\n",
       "      <th>25%</th>\n",
       "      <td>11.000000</td>\n",
       "      <td>18.000000</td>\n",
       "      <td>93638.000000</td>\n",
       "      <td>39.820000</td>\n",
       "      <td>3.431000</td>\n",
       "      <td>1963.550000</td>\n",
       "      <td>0.000000</td>\n",
       "      <td>7.770000</td>\n",
       "      <td>70.370000</td>\n",
       "      <td>1309.300000</td>\n",
       "      <td>0.000000</td>\n",
       "      <td>0.000000</td>\n",
       "    </tr>\n",
       "    <tr>\n",
       "      <th>50%</th>\n",
       "      <td>22.000000</td>\n",
       "      <td>37.000000</td>\n",
       "      <td>140167.000000</td>\n",
       "      <td>54.470000</td>\n",
       "      <td>3.606000</td>\n",
       "      <td>4828.720000</td>\n",
       "      <td>316.880000</td>\n",
       "      <td>60.000000</td>\n",
       "      <td>600.580000</td>\n",
       "      <td>2390.430000</td>\n",
       "      <td>138.402033</td>\n",
       "      <td>5.771000</td>\n",
       "    </tr>\n",
       "    <tr>\n",
       "      <th>75%</th>\n",
       "      <td>33.000000</td>\n",
       "      <td>74.000000</td>\n",
       "      <td>202505.000000</td>\n",
       "      <td>67.350000</td>\n",
       "      <td>3.766000</td>\n",
       "      <td>9427.410000</td>\n",
       "      <td>1575.850000</td>\n",
       "      <td>244.200000</td>\n",
       "      <td>2627.850000</td>\n",
       "      <td>4227.270000</td>\n",
       "      <td>201.212230</td>\n",
       "      <td>7.293000</td>\n",
       "    </tr>\n",
       "    <tr>\n",
       "      <th>max</th>\n",
       "      <td>45.000000</td>\n",
       "      <td>99.000000</td>\n",
       "      <td>219622.000000</td>\n",
       "      <td>101.950000</td>\n",
       "      <td>4.125000</td>\n",
       "      <td>103184.980000</td>\n",
       "      <td>71074.170000</td>\n",
       "      <td>149483.310000</td>\n",
       "      <td>65344.640000</td>\n",
       "      <td>771448.100000</td>\n",
       "      <td>228.976456</td>\n",
       "      <td>10.199000</td>\n",
       "    </tr>\n",
       "  </tbody>\n",
       "</table>\n",
       "</div>"
      ],
      "text/plain": [
       "               Store           Dept           Size    Temperature  \\\n",
       "count  115064.000000  115064.000000  115064.000000  115064.000000   \n",
       "mean       22.238207      44.339524  136497.688921      53.941804   \n",
       "std        12.809930      30.656410   61106.926438      18.724153   \n",
       "min         1.000000       1.000000   34875.000000      -7.290000   \n",
       "25%        11.000000      18.000000   93638.000000      39.820000   \n",
       "50%        22.000000      37.000000  140167.000000      54.470000   \n",
       "75%        33.000000      74.000000  202505.000000      67.350000   \n",
       "max        45.000000      99.000000  219622.000000     101.950000   \n",
       "\n",
       "          Fuel_Price      MarkDown1      MarkDown2      MarkDown3  \\\n",
       "count  115064.000000  115064.000000  115064.000000  115064.000000   \n",
       "mean        3.581546    7681.106189    2805.085103    2198.021241   \n",
       "std         0.239442   10693.903634    7392.542823   13183.852299   \n",
       "min         2.872000       0.000000       0.000000       0.000000   \n",
       "25%         3.431000    1963.550000       0.000000       7.770000   \n",
       "50%         3.606000    4828.720000     316.880000      60.000000   \n",
       "75%         3.766000    9427.410000    1575.850000     244.200000   \n",
       "max         4.125000  103184.980000   71074.170000  149483.310000   \n",
       "\n",
       "           MarkDown4      MarkDown5            CPI   Unemployment  \n",
       "count  115064.000000  115064.000000  115064.000000  115064.000000  \n",
       "mean     2980.298267    3922.806060     118.270541       4.590657  \n",
       "std      7212.030921   19445.125049      89.878361       3.483338  \n",
       "min         0.000000       0.000000       0.000000       0.000000  \n",
       "25%        70.370000    1309.300000       0.000000       0.000000  \n",
       "50%       600.580000    2390.430000     138.402033       5.771000  \n",
       "75%      2627.850000    4227.270000     201.212230       7.293000  \n",
       "max     65344.640000  771448.100000     228.976456      10.199000  "
      ]
     },
     "execution_count": 22,
     "metadata": {},
     "output_type": "execute_result"
    }
   ],
   "source": [
    "# Processed_test\n",
    "processed_test.loc[processed_test['MarkDown1'] < 0.0,'MarkDown1'] = 0.0\n",
    "processed_test.loc[processed_test['MarkDown2'] < 0.0,'MarkDown2'] = 0.0\n",
    "processed_test.loc[processed_test['MarkDown3'] < 0.0,'MarkDown3'] = 0.0\n",
    "processed_test.loc[processed_test['MarkDown5'] < 0.0,'MarkDown5'] = 0.0\n",
    "processed_test.describe()"
   ]
  },
  {
   "cell_type": "markdown",
   "metadata": {
    "_uuid": "7dbaa76a9d287387dbede67b01b0aa24b4f3fa50"
   },
   "source": [
    "### 5.3 Perform one hot encoding for categorical and boolean data"
   ]
  },
  {
   "cell_type": "code",
   "execution_count": 23,
   "metadata": {
    "_uuid": "9b94d48f08890f220f8e5ba179efd2541cc623f1"
   },
   "outputs": [
    {
     "name": "stdout",
     "output_type": "stream",
     "text": [
      "Store                    int64\n",
      "Dept                     int64\n",
      "Date            datetime64[ns]\n",
      "Weekly_Sales           float64\n",
      "IsHoliday_x               bool\n",
      "Type                    object\n",
      "Size                     int64\n",
      "Temperature            float64\n",
      "Fuel_Price             float64\n",
      "MarkDown1              float64\n",
      "MarkDown2              float64\n",
      "MarkDown3              float64\n",
      "MarkDown4              float64\n",
      "MarkDown5              float64\n",
      "CPI                    float64\n",
      "Unemployment           float64\n",
      "dtype: object Store                    int64\n",
      "Dept                     int64\n",
      "Date            datetime64[ns]\n",
      "IsHoliday_x               bool\n",
      "Type                    object\n",
      "Size                     int64\n",
      "Temperature            float64\n",
      "Fuel_Price             float64\n",
      "MarkDown1              float64\n",
      "MarkDown2              float64\n",
      "MarkDown3              float64\n",
      "MarkDown4              float64\n",
      "MarkDown5              float64\n",
      "CPI                    float64\n",
      "Unemployment           float64\n",
      "dtype: object\n"
     ]
    }
   ],
   "source": [
    "# Check the datatype of all variables in processed_train and processed_test\n",
    "\n",
    "print(processed_train.dtypes, processed_test.dtypes)"
   ]
  },
  {
   "cell_type": "code",
   "execution_count": 24,
   "metadata": {
    "_uuid": "8e96be1978c4b34eb52ada2017df6d220026df36"
   },
   "outputs": [],
   "source": [
    "cat_col = ['IsHoliday_x','Type']"
   ]
  },
  {
   "cell_type": "code",
   "execution_count": 25,
   "metadata": {
    "_uuid": "68d2217b15e018d14f903ebb3f076d173ffa4965"
   },
   "outputs": [],
   "source": [
    "for col in cat_col:\n",
    "    lbl = preprocessing.LabelEncoder()\n",
    "    lbl.fit(processed_train[col].values.astype('str'))\n",
    "    processed_train[col] = lbl.transform(processed_train[col].values.astype('str'))"
   ]
  },
  {
   "cell_type": "code",
   "execution_count": 26,
   "metadata": {
    "_uuid": "988f0baad9d72f0f0d8d961a9d18970a77e5798d"
   },
   "outputs": [],
   "source": [
    "for col in cat_col:\n",
    "    lbl = preprocessing.LabelEncoder()\n",
    "    lbl.fit(processed_test[col].values.astype('str'))\n",
    "    processed_test[col] = lbl.transform(processed_test[col].values.astype('str'))"
   ]
  },
  {
   "cell_type": "code",
   "execution_count": 27,
   "metadata": {
    "_uuid": "068fad6eb51523f1a875b3c1ba77d389f106973e"
   },
   "outputs": [],
   "source": [
    "processed_train.to_csv(\"Processed_data/processed_train.csv\", index=False)\n",
    "processed_test.to_csv(\"Processed_data/processed_test.csv\", index=False)"
   ]
  },
  {
   "cell_type": "code",
   "execution_count": 28,
   "metadata": {
    "_uuid": "fca611dffc9d54069b51d87bd3c559fe0a089eab"
   },
   "outputs": [
    {
     "data": {
      "text/html": [
       "<div>\n",
       "<style scoped>\n",
       "    .dataframe tbody tr th:only-of-type {\n",
       "        vertical-align: middle;\n",
       "    }\n",
       "\n",
       "    .dataframe tbody tr th {\n",
       "        vertical-align: top;\n",
       "    }\n",
       "\n",
       "    .dataframe thead th {\n",
       "        text-align: right;\n",
       "    }\n",
       "</style>\n",
       "<table border=\"1\" class=\"dataframe\">\n",
       "  <thead>\n",
       "    <tr style=\"text-align: right;\">\n",
       "      <th></th>\n",
       "      <th>Store</th>\n",
       "      <th>Dept</th>\n",
       "      <th>Date</th>\n",
       "      <th>Weekly_Sales</th>\n",
       "      <th>IsHoliday_x</th>\n",
       "      <th>Type</th>\n",
       "      <th>Size</th>\n",
       "      <th>Temperature</th>\n",
       "      <th>Fuel_Price</th>\n",
       "      <th>MarkDown1</th>\n",
       "      <th>MarkDown2</th>\n",
       "      <th>MarkDown3</th>\n",
       "      <th>MarkDown4</th>\n",
       "      <th>MarkDown5</th>\n",
       "      <th>CPI</th>\n",
       "      <th>Unemployment</th>\n",
       "    </tr>\n",
       "  </thead>\n",
       "  <tbody>\n",
       "    <tr>\n",
       "      <th>0</th>\n",
       "      <td>1</td>\n",
       "      <td>1</td>\n",
       "      <td>2010-02-05</td>\n",
       "      <td>24924.50</td>\n",
       "      <td>0</td>\n",
       "      <td>0</td>\n",
       "      <td>151315</td>\n",
       "      <td>42.31</td>\n",
       "      <td>2.572</td>\n",
       "      <td>0.0</td>\n",
       "      <td>0.0</td>\n",
       "      <td>0.0</td>\n",
       "      <td>0.0</td>\n",
       "      <td>0.0</td>\n",
       "      <td>211.096358</td>\n",
       "      <td>8.106</td>\n",
       "    </tr>\n",
       "    <tr>\n",
       "      <th>1</th>\n",
       "      <td>1</td>\n",
       "      <td>2</td>\n",
       "      <td>2010-02-05</td>\n",
       "      <td>50605.27</td>\n",
       "      <td>0</td>\n",
       "      <td>0</td>\n",
       "      <td>151315</td>\n",
       "      <td>42.31</td>\n",
       "      <td>2.572</td>\n",
       "      <td>0.0</td>\n",
       "      <td>0.0</td>\n",
       "      <td>0.0</td>\n",
       "      <td>0.0</td>\n",
       "      <td>0.0</td>\n",
       "      <td>211.096358</td>\n",
       "      <td>8.106</td>\n",
       "    </tr>\n",
       "    <tr>\n",
       "      <th>2</th>\n",
       "      <td>1</td>\n",
       "      <td>3</td>\n",
       "      <td>2010-02-05</td>\n",
       "      <td>13740.12</td>\n",
       "      <td>0</td>\n",
       "      <td>0</td>\n",
       "      <td>151315</td>\n",
       "      <td>42.31</td>\n",
       "      <td>2.572</td>\n",
       "      <td>0.0</td>\n",
       "      <td>0.0</td>\n",
       "      <td>0.0</td>\n",
       "      <td>0.0</td>\n",
       "      <td>0.0</td>\n",
       "      <td>211.096358</td>\n",
       "      <td>8.106</td>\n",
       "    </tr>\n",
       "    <tr>\n",
       "      <th>3</th>\n",
       "      <td>1</td>\n",
       "      <td>4</td>\n",
       "      <td>2010-02-05</td>\n",
       "      <td>39954.04</td>\n",
       "      <td>0</td>\n",
       "      <td>0</td>\n",
       "      <td>151315</td>\n",
       "      <td>42.31</td>\n",
       "      <td>2.572</td>\n",
       "      <td>0.0</td>\n",
       "      <td>0.0</td>\n",
       "      <td>0.0</td>\n",
       "      <td>0.0</td>\n",
       "      <td>0.0</td>\n",
       "      <td>211.096358</td>\n",
       "      <td>8.106</td>\n",
       "    </tr>\n",
       "    <tr>\n",
       "      <th>4</th>\n",
       "      <td>1</td>\n",
       "      <td>5</td>\n",
       "      <td>2010-02-05</td>\n",
       "      <td>32229.38</td>\n",
       "      <td>0</td>\n",
       "      <td>0</td>\n",
       "      <td>151315</td>\n",
       "      <td>42.31</td>\n",
       "      <td>2.572</td>\n",
       "      <td>0.0</td>\n",
       "      <td>0.0</td>\n",
       "      <td>0.0</td>\n",
       "      <td>0.0</td>\n",
       "      <td>0.0</td>\n",
       "      <td>211.096358</td>\n",
       "      <td>8.106</td>\n",
       "    </tr>\n",
       "  </tbody>\n",
       "</table>\n",
       "</div>"
      ],
      "text/plain": [
       "   Store  Dept       Date  Weekly_Sales  IsHoliday_x  Type    Size  \\\n",
       "0      1     1 2010-02-05      24924.50            0     0  151315   \n",
       "1      1     2 2010-02-05      50605.27            0     0  151315   \n",
       "2      1     3 2010-02-05      13740.12            0     0  151315   \n",
       "3      1     4 2010-02-05      39954.04            0     0  151315   \n",
       "4      1     5 2010-02-05      32229.38            0     0  151315   \n",
       "\n",
       "   Temperature  Fuel_Price  MarkDown1  MarkDown2  MarkDown3  MarkDown4  \\\n",
       "0        42.31       2.572        0.0        0.0        0.0        0.0   \n",
       "1        42.31       2.572        0.0        0.0        0.0        0.0   \n",
       "2        42.31       2.572        0.0        0.0        0.0        0.0   \n",
       "3        42.31       2.572        0.0        0.0        0.0        0.0   \n",
       "4        42.31       2.572        0.0        0.0        0.0        0.0   \n",
       "\n",
       "   MarkDown5         CPI  Unemployment  \n",
       "0        0.0  211.096358         8.106  \n",
       "1        0.0  211.096358         8.106  \n",
       "2        0.0  211.096358         8.106  \n",
       "3        0.0  211.096358         8.106  \n",
       "4        0.0  211.096358         8.106  "
      ]
     },
     "execution_count": 28,
     "metadata": {},
     "output_type": "execute_result"
    }
   ],
   "source": [
    "processed_train.head()"
   ]
  },
  {
   "cell_type": "code",
   "execution_count": 29,
   "metadata": {
    "_uuid": "b99d109a37f7d0aceaee2da094eb05c242917b6c"
   },
   "outputs": [],
   "source": [
    "# Rearrange the response columns ('Weekly_Sales')\n",
    "\n",
    "processed_train = processed_train[['Store', 'Dept', 'Date', 'Unemployment', 'IsHoliday_x', 'Type', 'Size',\n",
    "       'Temperature', 'Fuel_Price', 'MarkDown1', 'MarkDown2', 'MarkDown3',\n",
    "       'MarkDown4', 'MarkDown5', 'CPI', 'Weekly_Sales']]"
   ]
  },
  {
   "cell_type": "code",
   "execution_count": 31,
   "metadata": {
    "_uuid": "b7d9adcae2f845c51ef674f7e85f561a27a94f92"
   },
   "outputs": [],
   "source": [
    "# # Save the new processed file\n",
    "processed_train.to_csv(\"Processed_data/processed_train.csv\", index=False)"
   ]
  },
  {
   "cell_type": "markdown",
   "metadata": {
    "_uuid": "892557c95cdbfd601ba5f169156fa1a2d3ded34b"
   },
   "source": [
    "# 6. Baseline Model"
   ]
  },
  {
   "cell_type": "code",
   "execution_count": 38,
   "metadata": {
    "_uuid": "b7cdd2de26df237b40873fe011e502e3de14cbc5"
   },
   "outputs": [
    {
     "ename": "SyntaxError",
     "evalue": "invalid syntax (<ipython-input-38-19dc88f14986>, line 1)",
     "output_type": "error",
     "traceback": [
      "\u001b[1;36m  File \u001b[1;32m\"<ipython-input-38-19dc88f14986>\"\u001b[1;36m, line \u001b[1;32m1\u001b[0m\n\u001b[1;33m    pip install keras\u001b[0m\n\u001b[1;37m              ^\u001b[0m\n\u001b[1;31mSyntaxError\u001b[0m\u001b[1;31m:\u001b[0m invalid syntax\n"
     ]
    }
   ],
   "source": [
    "pip install keras\n",
    "import keras\n",
    "from sklearn.preprocessing import MinMaxScaler"
   ]
  },
  {
   "cell_type": "code",
   "execution_count": null,
   "metadata": {
    "_uuid": "2d80c8eacd3bdda092ab579c546da602e23ddada"
   },
   "outputs": [],
   "source": [
    "# %% Check the date range in processed_train to perform train-val-test split\n",
    "print(processed_train['Date'].min(), processed_train['Date'].max())"
   ]
  },
  {
   "cell_type": "code",
   "execution_count": null,
   "metadata": {
    "_uuid": "71a2ee64a2c9b38a35329ae1e77d213aea20b9ac"
   },
   "outputs": [],
   "source": [
    "# %% Split train set into train-dev set\n",
    "split_date = pd.datetime(2012,8,24)\n",
    "train_set = processed_train.loc[processed_train['Date'] <= split_date]\n",
    "dev_set = processed_train.loc[processed_train['Date'] > split_date]"
   ]
  },
  {
   "cell_type": "code",
   "execution_count": null,
   "metadata": {
    "_uuid": "92b3a04a9aeb02d0cefae6d2e48fc56ff6ebe854"
   },
   "outputs": [],
   "source": [
    "# %% Split dev set into validation and test set\n",
    "split_date_dev = pd.datetime(2012,9,25)\n",
    "val_set = dev_set.loc[dev_set['Date'] <= split_date_dev]\n",
    "test_set = dev_set.loc[dev_set['Date'] > split_date_dev]"
   ]
  },
  {
   "cell_type": "code",
   "execution_count": null,
   "metadata": {
    "_uuid": "22261354077cafb7a6df08d57e0ad63103e9e799"
   },
   "outputs": [],
   "source": [
    "train_set = train_set.set_index('Date')\n",
    "val_set = val_set.set_index('Date')\n",
    "test_set = test_set.set_index('Date')"
   ]
  },
  {
   "cell_type": "code",
   "execution_count": null,
   "metadata": {
    "_uuid": "cc6e53c9d74cc50392d5153e22121271ef159248"
   },
   "outputs": [],
   "source": [
    "train_set_array = train_set.iloc[:,:].values\n",
    "val_set_array = val_set.iloc[:,:].values\n",
    "test_set_array = test_set.iloc[:,:].values\n",
    "\n",
    "print(\"Shape of train, val and test array:\\n\",train_set_array.shape,\"\\n\",val_set_array.shape,\"\\n\",test_set_array.shape)"
   ]
  },
  {
   "cell_type": "code",
   "execution_count": null,
   "metadata": {
    "_uuid": "f101feb470f1e8884166a05877e87b0693845b6b"
   },
   "outputs": [],
   "source": [
    "# Scaling\n",
    "sc = MinMaxScaler(feature_range=(0,1))\n",
    "train_set_scaled = sc.fit_transform(train_set_array[:,:])\n",
    "val_set_scaled = sc.fit_transform(val_set_array[:,:])\n",
    "test_set_scaled = sc.fit_transform(test_set_array[:,:])\n",
    "\n",
    "print(train_set_scaled.shape, val_set_scaled.shape, test_set_scaled.shape)"
   ]
  },
  {
   "cell_type": "code",
   "execution_count": null,
   "metadata": {
    "_uuid": "d392430a39e4c3a9fccca6477ff0187ddffde1aa"
   },
   "outputs": [],
   "source": [
    "X_train = []\n",
    "y_train = []\n",
    "X_val = []\n",
    "y_val = []\n",
    "X_test = []\n",
    "y_test = []\n",
    "\n",
    "X_train, y_train = train_set_scaled[:,:-1], train_set_scaled[:,-1]\n",
    "X_val, y_val = val_set_scaled[:,:-1], val_set_scaled[:,-1]\n",
    "X_test, y_test = test_set_scaled[:,:-1], test_set_scaled[:,-1]\n",
    "\n",
    "print(X_train.shape, y_train.shape, X_val.shape, y_val.shape, X_test.shape, y_test.shape)"
   ]
  },
  {
   "cell_type": "code",
   "execution_count": null,
   "metadata": {
    "_uuid": "1adc95201537fb599406e14c93af7c9cb973d003"
   },
   "outputs": [],
   "source": [
    "# Create data structure\n",
    "\n",
    "X_train = X_train.reshape((X_train.shape[0], 1, X_train.shape[1]))\n",
    "X_val = X_val.reshape((X_val.shape[0], 1, X_val.shape[1]))\n",
    "X_test = X_test.reshape((X_test.shape[0], 1, X_test.shape[1]))"
   ]
  },
  {
   "cell_type": "code",
   "execution_count": null,
   "metadata": {
    "_uuid": "b64ec88c780bdb9045a73753225b745b7b19a64f"
   },
   "outputs": [],
   "source": [
    "print(X_train.shape, X_val.shape, X_test.shape)"
   ]
  },
  {
   "cell_type": "code",
   "execution_count": null,
   "metadata": {
    "_uuid": "34f68473ed48ffe23e7b81387b2642637667b7e0"
   },
   "outputs": [],
   "source": [
    "from keras.models import Sequential\n",
    "from keras.layers import Dense\n",
    "from keras.layers import LSTM\n",
    "from keras.layers import Dropout\n",
    "from keras.layers import Flatten"
   ]
  },
  {
   "cell_type": "code",
   "execution_count": null,
   "metadata": {
    "_uuid": "1d334c83104561cce4e50ade80b8ce0e90e02ef9"
   },
   "outputs": [],
   "source": [
    "# Initialising RNN\n",
    "regressor = Sequential()"
   ]
  },
  {
   "cell_type": "code",
   "execution_count": null,
   "metadata": {
    "_uuid": "0b37bdc9bf16b05d45af832bb4b4235a0977c178"
   },
   "outputs": [],
   "source": [
    "# Adding the first LSTM layer and some Dropout regularization\n",
    "# Dropout regularization is added to avoid overfitting\n",
    "\n",
    "regressor.add(LSTM(units = 10, return_sequences = True, activation = 'relu', input_shape = (X_train.shape[1], 14)))\n",
    "regressor.add(Dropout(0.5))"
   ]
  },
  {
   "cell_type": "code",
   "execution_count": null,
   "metadata": {
    "_uuid": "fac262b9d20ee60f48c2acf30f08e8f3086a1f91"
   },
   "outputs": [],
   "source": [
    "# adding a second LSTM layer and some dropout regularization\n",
    "regressor.add(LSTM(units = 10, return_sequences = True, activation = 'relu'))\n",
    "regressor.add(Dropout(0.5))"
   ]
  },
  {
   "cell_type": "code",
   "execution_count": null,
   "metadata": {
    "_uuid": "c8495c8ce29bb421af24ca4eadfd55f71ed835e7"
   },
   "outputs": [],
   "source": [
    "# # adding a third LSTM layer and some dropout regularization\n",
    "# regressor.add(LSTM(units = 10, return_sequences = True, activation = 'relu'))\n",
    "# regressor.add(Dropout(0.7))"
   ]
  },
  {
   "cell_type": "code",
   "execution_count": null,
   "metadata": {
    "_uuid": "445755ffe021b84f27194e1f9bd76ad1dcd86759"
   },
   "outputs": [],
   "source": [
    "# adding a fourth LSTM layer and some dropout regularization\n",
    "regressor.add(LSTM(units = 10, return_sequences = False, activation = 'relu'))\n",
    "regressor.add(Dropout(0.5))"
   ]
  },
  {
   "cell_type": "code",
   "execution_count": null,
   "metadata": {
    "_uuid": "300bd001b338bb54b382c9de027e3c44183ae7b0"
   },
   "outputs": [],
   "source": [
    "# Adding the output layer\n",
    "#regressor.add(Flatten())\n",
    "regressor.add(Dense(units=1, activation = 'sigmoid'))"
   ]
  },
  {
   "cell_type": "code",
   "execution_count": null,
   "metadata": {
    "_uuid": "11d1313733a62d9b7d2b3077e63ca8ffb7f81881"
   },
   "outputs": [],
   "source": [
    "# Compiling the RNN\n",
    "regressor.compile(optimizer='adam', \n",
    "                  loss='mean_squared_error', \n",
    "                  metrics=['accuracy'])"
   ]
  },
  {
   "cell_type": "code",
   "execution_count": null,
   "metadata": {
    "_uuid": "90e660b31c355e0339f5a6ee5f20ae7690d19108",
    "scrolled": true
   },
   "outputs": [],
   "source": [
    "# Fitting the RNN to the training set\n",
    "history = regressor.fit(X_train, \n",
    "              y_train, \n",
    "              epochs = 20, \n",
    "              batch_size = 512, \n",
    "              validation_data = (X_val, y_val),\n",
    "              verbose = 1)"
   ]
  },
  {
   "cell_type": "code",
   "execution_count": null,
   "metadata": {
    "_uuid": "d644f476d0c3a11e177a7223725aa033d4fa04eb",
    "collapsed": true
   },
   "outputs": [],
   "source": [
    "# Save Baseline Model\n",
    "\n",
    "# regressor.save('models/model6_baseline.h5')"
   ]
  },
  {
   "cell_type": "code",
   "execution_count": null,
   "metadata": {
    "_uuid": "fccebd9af75fdcb618bd22d7caa00a6742ed4d56",
    "collapsed": true
   },
   "outputs": [],
   "source": [
    "# To load the model\n",
    "\n",
    "# regressor = load_model('models/model1_baseline.h5')"
   ]
  },
  {
   "cell_type": "markdown",
   "metadata": {
    "_uuid": "4814d07ec7180da5c554ecbb65400d8199b37c5b"
   },
   "source": [
    "# 7 Predictions"
   ]
  },
  {
   "cell_type": "code",
   "execution_count": null,
   "metadata": {
    "_uuid": "8bbd3477ffa5f6b8a88a24133c84b4acf03a7fbe"
   },
   "outputs": [],
   "source": [
    "# %% \n",
    "predicted_sales = regressor.predict(X_test)"
   ]
  },
  {
   "cell_type": "code",
   "execution_count": null,
   "metadata": {
    "_uuid": "dcb2a4ed0ef6ed4464e707666ac84df288b1dc3f"
   },
   "outputs": [],
   "source": [
    "# Reshape X_test for inverse scaling\n",
    "X_test = X_test.reshape((X_test.shape[0], X_test.shape[2]))"
   ]
  },
  {
   "cell_type": "code",
   "execution_count": null,
   "metadata": {
    "_uuid": "27b1310fe7ff399493bd8e0dbfb88760d18f5b0b"
   },
   "outputs": [],
   "source": [
    "print(X_test[:,:].shape, predicted_sales.shape)"
   ]
  },
  {
   "cell_type": "code",
   "execution_count": null,
   "metadata": {
    "_uuid": "87d9a1cf4973c886b9b0c0f1391deee5219a801b"
   },
   "outputs": [],
   "source": [
    "# Concatenate in the same order. In our example, values of weekly sales should be in the end. Hence X_test[:,:] followed by predicted_sales\n",
    "predicted_weekly_sales = np.concatenate((X_test[:,:], predicted_sales),axis=1)\n",
    "predicted_weekly_sales = sc.inverse_transform(predicted_weekly_sales)\n",
    "predicted_weekly_sales = predicted_weekly_sales[:,14:15]\n",
    "predicted_weekly_sales"
   ]
  },
  {
   "cell_type": "code",
   "execution_count": null,
   "metadata": {
    "_uuid": "9ecd34d5c576226c5ed59c67f8d875114f7b986f"
   },
   "outputs": [],
   "source": [
    "y_test = y_test.reshape((y_test.shape[0],1))"
   ]
  },
  {
   "cell_type": "code",
   "execution_count": null,
   "metadata": {
    "_uuid": "df61e6390cc29eac628700b30d5157d27827f01c"
   },
   "outputs": [],
   "source": [
    "observed_weekly_sales = np.concatenate((X_test[:,:], y_test),axis=1)\n",
    "observed_weekly_sales = sc.inverse_transform(observed_weekly_sales)\n",
    "observed_weekly_sales = observed_weekly_sales[:,14:15]\n",
    "observed_weekly_sales"
   ]
  },
  {
   "cell_type": "code",
   "execution_count": null,
   "metadata": {
    "_uuid": "f9aa3e9a48bd735129f80d3ef3b7682ca726cc7c"
   },
   "outputs": [],
   "source": [
    "print(observed_weekly_sales.shape, predicted_weekly_sales.shape)"
   ]
  },
  {
   "cell_type": "code",
   "execution_count": null,
   "metadata": {
    "_uuid": "b6ccbd2357866707cb6d73b51c884e6b95585bff"
   },
   "outputs": [],
   "source": [
    "fontP = FontProperties()\n",
    "fontP.set_size('xx-large')\n",
    "\n",
    "plt.subplots(figsize=(60,25))\n",
    "plt.plot(observed_weekly_sales,color='red',label='Real weekly sales')\n",
    "plt.plot(predicted_weekly_sales,color='blue',label='Predicted weekly sales')\n",
    "plt.title('Walmart Weekly Sales', fontsize=40)\n",
    "plt.xlabel('Time', fontsize=25)\n",
    "plt.ylabel('Sales', fontsize=25)\n",
    "plt.tick_params(axis='both', which='major', labelsize=20)\n",
    "plt.legend(loc=0, ncol=1, bbox_to_anchor=(0, 0, 1, 1),\n",
    "           prop = fontP,fancybox=True,shadow=False)\n",
    "\n",
    "plt.show()"
   ]
  },
  {
   "cell_type": "code",
   "execution_count": null,
   "metadata": {
    "_uuid": "7f00e59867b13a08658667aa8350ebf93b11d8ef"
   },
   "outputs": [],
   "source": [
    "# obs_pred_df = pd.DataFrame({'Date': test_set['Date'],\n",
    "#               'Observed Sales': observed_weekly_sales.reshape(observed_weekly_sales.shape[0]),\n",
    "#               'Predicted Sales': predicted_weekly_sales.reshape(predicted_weekly_sales.shape[0])})\n",
    "\n",
    "# obs_pred_df.head()"
   ]
  },
  {
   "cell_type": "code",
   "execution_count": null,
   "metadata": {
    "_uuid": "8a7f96e63154e3b51a535b7860ea73e6b97eb575"
   },
   "outputs": [],
   "source": [
    "# obs_pred_df.set_index('Date', inplace=True)\n",
    "# obs_pred_df.head()"
   ]
  },
  {
   "cell_type": "code",
   "execution_count": null,
   "metadata": {
    "_uuid": "19e31b6b2b5c176b94b7ec158c028e83bff2e8ed"
   },
   "outputs": [],
   "source": [
    "# obs_pred_df.plot(figsize=(20,10), linewidth=5, fontsize=20)\n",
    "# plt.xlabel('Year', fontsize=20)\n",
    "# plt.show()"
   ]
  },
  {
   "cell_type": "markdown",
   "metadata": {
    "_uuid": "cdea9be4e572f696cbb2a5cdaecf1133376fad3a"
   },
   "source": [
    "# 8 Model Evaluation"
   ]
  },
  {
   "cell_type": "code",
   "execution_count": null,
   "metadata": {
    "_uuid": "e3e4c31d9d657e5a9f0d83a261a5d466841b23c2"
   },
   "outputs": [],
   "source": [
    "test_set = test_set.reset_index()\n",
    "test_set.head()"
   ]
  },
  {
   "cell_type": "code",
   "execution_count": null,
   "metadata": {
    "_uuid": "194c226b356ca073ee1dfb8bc397b1ffe4c7facf"
   },
   "outputs": [],
   "source": [
    "weight = np.where(test_set['IsHoliday_x']==0, 1, 5)\n",
    "\n",
    "df = pd.DataFrame({\"Date\": test_set['Date'],\n",
    "                   \"Weight\": weight,\n",
    "                   \"Observed_Values\":observed_weekly_sales.reshape(observed_weekly_sales.shape[0]),\n",
    "                  \"Predicted_Values\":predicted_weekly_sales.reshape(predicted_weekly_sales.shape[0])})\n",
    "\n",
    "df['Derived'] = df['Weight']*abs(df['Observed_Values']-df['Predicted_Values'])\n",
    "\n",
    "df.head()"
   ]
  },
  {
   "cell_type": "code",
   "execution_count": null,
   "metadata": {
    "_uuid": "5c94e01751ded3b34390562574be268fd20a5590"
   },
   "outputs": [],
   "source": [
    "WMAE = sum(df['Derived']) / sum(df['Weight'])\n",
    "WMAE"
   ]
  },
  {
   "cell_type": "code",
   "execution_count": null,
   "metadata": {
    "_uuid": "1d8cf1738ae6a0e1c8db628c1d82f3b000908243"
   },
   "outputs": [],
   "source": [
    "# results = regressor.evaluate(X_test, y_test)\n",
    "# results"
   ]
  },
  {
   "cell_type": "code",
   "execution_count": null,
   "metadata": {
    "_uuid": "8d0397043819b7a538bd27b9d0003ab99b972ffe"
   },
   "outputs": [],
   "source": [
    "history_dict = history.history\n",
    "history_dict.keys()"
   ]
  },
  {
   "cell_type": "code",
   "execution_count": null,
   "metadata": {
    "_uuid": "a2f3268735df38882a9d8e51734fff150d975f07"
   },
   "outputs": [],
   "source": [
    "acc = history.history['acc']\n",
    "val_acc = history.history['val_acc']\n",
    "loss = history.history['loss']\n",
    "val_loss = history.history['val_loss']\n",
    "\n",
    "epochs = range(1, len(loss)+1)\n",
    "\n",
    "plt.plot(epochs, loss, 'bo', label='Training loss')\n",
    "plt.plot(epochs, val_loss, 'b', label='Validation loss')\n",
    "plt.title('Training and Validation loss')\n",
    "plt.xlabel('Epochs')\n",
    "plt.ylabel('Loss')\n",
    "plt.legend()\n",
    "plt.show()"
   ]
  },
  {
   "cell_type": "code",
   "execution_count": null,
   "metadata": {
    "_uuid": "bca9c5c5c6ff720a52f71a9009d9ce1acdc831ec",
    "scrolled": false
   },
   "outputs": [],
   "source": [
    "plt.plot(epochs, acc, 'bo', label='Training acc')\n",
    "plt.plot(epochs, val_acc, 'b', label='Validation acc')\n",
    "plt.title('Training and validation accuracy')\n",
    "plt.xlabel('Epochs')\n",
    "plt.ylabel('Accuracy')\n",
    "plt.legend()\n",
    "plt.show()"
   ]
  },
  {
   "cell_type": "code",
   "execution_count": null,
   "metadata": {
    "_uuid": "fd89d7c772ac6349a037514fa7fe7416bd2d239b"
   },
   "outputs": [],
   "source": [
    "del(regressor)"
   ]
  }
 ],
 "metadata": {
  "kernelspec": {
   "display_name": "Python 3",
   "language": "python",
   "name": "python3"
  },
  "language_info": {
   "codemirror_mode": {
    "name": "ipython",
    "version": 3
   },
   "file_extension": ".py",
   "mimetype": "text/x-python",
   "name": "python",
   "nbconvert_exporter": "python",
   "pygments_lexer": "ipython3",
   "version": "3.7.1"
  }
 },
 "nbformat": 4,
 "nbformat_minor": 1
}
